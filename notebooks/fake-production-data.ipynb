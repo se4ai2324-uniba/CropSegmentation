{
 "cells": [
  {
   "cell_type": "code",
   "execution_count": 35,
   "metadata": {},
   "outputs": [],
   "source": [
    "import os\n",
    "import sys\n",
    "from skimage import io, filters, util\n",
    "import cv2\n",
    "import numpy as np\n",
    "import random"
   ]
  },
  {
   "cell_type": "code",
   "execution_count": 28,
   "metadata": {},
   "outputs": [],
   "source": [
    "TRAINING_DATA = '../data/processed/datasets_processed/training_data/'\n",
    "RATIO = 0.0001\n",
    "ko = '.DS_Store'"
   ]
  },
  {
   "cell_type": "code",
   "execution_count": 84,
   "metadata": {},
   "outputs": [],
   "source": [
    "def fake_data():\n",
    "\n",
    "    train_i = os.listdir(TRAINING_DATA)\n",
    "    if ko in train_i: train_i.remove(ko)\n",
    "\n",
    "    sample = int(len(train_i)*RATIO)\n",
    "    train_d = []\n",
    "\n",
    "    random.seed()\n",
    "\n",
    "    while len(train_d) <= sample:\n",
    "        i = str(random.randint(0, 35503))\n",
    "        while len(i) < 5:\n",
    "            i = '0' + i\n",
    "        train_d.append(io.imread(TRAINING_DATA+i+'.jpg'))\n",
    "\n",
    "    fake = [filters.gaussian(img, sigma = 2.5, channel_axis=-1) for img in train_d]\n",
    "    slice = int(sample/2)\n",
    "    fake_low = [img*0.5 for img in fake[:slice]]\n",
    "    fake_high = [img*2.0 for img in fake[slice:]]\n",
    "\n",
    "    return fake_low + fake_high\n",
    "\n",
    "#train_d = [io.imread(TRAINING_DATA+i) for i in train_i[:sample]]"
   ]
  }
 ],
 "metadata": {
  "kernelspec": {
   "display_name": ".env",
   "language": "python",
   "name": "python3"
  },
  "language_info": {
   "codemirror_mode": {
    "name": "ipython",
    "version": 3
   },
   "file_extension": ".py",
   "mimetype": "text/x-python",
   "name": "python",
   "nbconvert_exporter": "python",
   "pygments_lexer": "ipython3",
   "version": "3.10.11"
  }
 },
 "nbformat": 4,
 "nbformat_minor": 2
}
